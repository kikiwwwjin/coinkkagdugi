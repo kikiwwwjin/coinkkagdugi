{
 "cells": [
  {
   "cell_type": "code",
   "execution_count": 1,
   "metadata": {},
   "outputs": [],
   "source": [
    "# 패키지 임포트\n",
    "import pandas as pd\n",
    "import numpy as np\n",
    "from sklearn.preprocessing import StandardScaler, MinMaxScaler, MaxAbsScaler, RobustScaler # 스케일링 관련 패키지\n",
    "import matplotlib.pyplot as plt\n",
    "from sklearn.preprocessing import LabelEncoder, OneHotEncoder # 범주화 및 더미변수화"
   ]
  },
  {
   "cell_type": "code",
   "execution_count": 3,
   "metadata": {},
   "outputs": [
    {
     "name": "stdout",
     "output_type": "stream",
     "text": [
      "            id  Gender  Age  Driving_License  Region_Code  Previously_Insured  \\\n",
      "0       381110    Male   25                1         11.0                   1   \n",
      "1       381111    Male   40                1         28.0                   0   \n",
      "2       381112    Male   47                1         28.0                   0   \n",
      "3       381113    Male   24                1         27.0                   1   \n",
      "4       381114    Male   27                1         28.0                   1   \n",
      "...        ...     ...  ...              ...          ...                 ...   \n",
      "127032  508142  Female   26                1         37.0                   1   \n",
      "127033  508143  Female   38                1         28.0                   0   \n",
      "127034  508144    Male   21                1         46.0                   1   \n",
      "127035  508145    Male   71                1         28.0                   1   \n",
      "127036  508146    Male   41                1         29.0                   1   \n",
      "\n",
      "       Vehicle_Age Vehicle_Damage  Annual_Premium  Policy_Sales_Channel  \\\n",
      "0         < 1 Year             No         35786.0                 152.0   \n",
      "1         1-2 Year            Yes         33762.0                   7.0   \n",
      "2         1-2 Year            Yes         40050.0                 124.0   \n",
      "3         < 1 Year            Yes         37356.0                 152.0   \n",
      "4         < 1 Year             No         59097.0                 152.0   \n",
      "...            ...            ...             ...                   ...   \n",
      "127032    < 1 Year             No         30867.0                 152.0   \n",
      "127033    1-2 Year            Yes         28700.0                 122.0   \n",
      "127034    < 1 Year             No         29802.0                 152.0   \n",
      "127035    1-2 Year             No         62875.0                  26.0   \n",
      "127036    1-2 Year             No         27927.0                 124.0   \n",
      "\n",
      "        Vintage  \n",
      "0            53  \n",
      "1           111  \n",
      "2           199  \n",
      "3           187  \n",
      "4           297  \n",
      "...         ...  \n",
      "127032       56  \n",
      "127033      165  \n",
      "127034       74  \n",
      "127035      265  \n",
      "127036      231  \n",
      "\n",
      "[127037 rows x 11 columns]\n"
     ]
    }
   ],
   "source": [
    "# 실습 데이터 불러오기\n",
    "df = pd.read_csv('C:\\\\Users\\\\wai\\\\Desktop\\\\프로젝트\\\\교육자료\\\\교육데이터\\\\kaggle\\\\test.csv')\n",
    "print(df)"
   ]
  },
  {
   "cell_type": "code",
   "execution_count": 26,
   "metadata": {},
   "outputs": [
    {
     "name": "stdout",
     "output_type": "stream",
     "text": [
      "10\n",
      "20\n",
      "30\n",
      "40\n",
      "50\n",
      "60\n",
      "70\n",
      "80\n",
      "90\n",
      "['10대', '20대', '30대', '40대', '50대', '60대', '70대', '80대', '90대']\n",
      "0         10대\n",
      "1         30대\n",
      "2         40대\n",
      "3         10대\n",
      "4         10대\n",
      "         ... \n",
      "127032    10대\n",
      "127033    30대\n",
      "127034    10대\n",
      "127035    80대\n",
      "127036    30대\n",
      "Name: Age_grade, Length: 127037, dtype: category\n",
      "Categories (9, object): [10대 < 20대 < 30대 < 40대 ... 60대 < 70대 < 80대 < 90대]\n",
      "0         3\n",
      "1         5\n",
      "2         7\n",
      "3         2\n",
      "4         4\n",
      "         ..\n",
      "127032    3\n",
      "127033    5\n",
      "127034    1\n",
      "127035    9\n",
      "127036    6\n",
      "Name: Age_grade_quantile, Length: 127037, dtype: int64\n"
     ]
    }
   ],
   "source": [
    "### 'Age' 나이 변수 범주화 및 더미변수화 ###\n",
    "### 실습 1) 'Age' 나이 변수 범주화 하기\n",
    "\n",
    "# 나이대 라벨링 리스트 선언\n",
    "labels = []\n",
    "# 구간 개수 : 9\n",
    "diff_n = 9\n",
    "for x in range(10, diff_n*10+10, 10):\n",
    "    print(x)\n",
    "    labels.append(str(x) + '대')\n",
    "print(labels) # 구간 개수에 따라 나이대를 라벨링\n",
    "\n",
    "# 데이터 프레임에 'Age_grade'  나이대 그룹핑(10개의 구간을 일정한 구간의 크기로 구분함)\n",
    "df['Age_grade'] = pd.cut(df.loc[:,'Age'], bins=diff_n, labels=labels)\n",
    "print(df['Age_grade'] )\n",
    "\n",
    "# 데이터 프레임에 'Age_grade_quantile' 나이대 그룹핑(9개의 구간을 일정한 분위수로 구분함)\n",
    "# 변수의 변량에 따라서 분위수를 나누는 구간이 중복가능하기 때문에 duplicates 옵션에 'drop'을 해준다.\n",
    "# labels=False 옵션을 주어 낮은 구간부터 높은 구간순으로 0,1,..6  +1씩 값이 증가하는 구간으로 세팅된다.\n",
    "df['Age_grade_quantile'] = pd.qcut(df.loc[:,'Age'], q=diff_n, duplicates='drop', labels=False) # 7개의 구간으로 나누어졌다.\n",
    "# 0 등급부터 라벨링이 되기때문에 'v1_grade_quantile' 컬럼에 전체 적으로 +1을 해준다.\n",
    "df['Age_grade_quantile'] = df['Age_grade_quantile'] + 1\n",
    "print(df['Age_grade_quantile'])\n"
   ]
  },
  {
   "cell_type": "code",
   "execution_count": 17,
   "metadata": {},
   "outputs": [
    {
     "name": "stdout",
     "output_type": "stream",
     "text": [
      "[10대, 30대, 40대, 50대, 70대, 20대, 60대, 80대, 90대]\n",
      "Categories (9, object): [10대 < 20대 < 30대 < 40대 ... 60대 < 70대 < 80대 < 90대]\n",
      "CategoricalIndex(['10대', '20대', '30대', '40대', '50대', '60대', '70대', '80대',\n",
      "                  '90대'],\n",
      "                 categories=['10대', '20대', '30대', '40대', '50대', '60대', '70대', '80대', ...], ordered=True, dtype='category')\n",
      "            id  Gender  Age  Driving_License  Region_Code  Previously_Insured  \\\n",
      "0       381110    Male   25                1         11.0                   1   \n",
      "1       381111    Male   40                1         28.0                   0   \n",
      "2       381112    Male   47                1         28.0                   0   \n",
      "3       381113    Male   24                1         27.0                   1   \n",
      "4       381114    Male   27                1         28.0                   1   \n",
      "...        ...     ...  ...              ...          ...                 ...   \n",
      "127032  508142  Female   26                1         37.0                   1   \n",
      "127033  508143  Female   38                1         28.0                   0   \n",
      "127034  508144    Male   21                1         46.0                   1   \n",
      "127035  508145    Male   71                1         28.0                   1   \n",
      "127036  508146    Male   41                1         29.0                   1   \n",
      "\n",
      "       Vehicle_Age Vehicle_Damage  Annual_Premium  Policy_Sales_Channel  ...  \\\n",
      "0         < 1 Year             No         35786.0                 152.0  ...   \n",
      "1         1-2 Year            Yes         33762.0                   7.0  ...   \n",
      "2         1-2 Year            Yes         40050.0                 124.0  ...   \n",
      "3         < 1 Year            Yes         37356.0                 152.0  ...   \n",
      "4         < 1 Year             No         59097.0                 152.0  ...   \n",
      "...            ...            ...             ...                   ...  ...   \n",
      "127032    < 1 Year             No         30867.0                 152.0  ...   \n",
      "127033    1-2 Year            Yes         28700.0                 122.0  ...   \n",
      "127034    < 1 Year             No         29802.0                 152.0  ...   \n",
      "127035    1-2 Year             No         62875.0                  26.0  ...   \n",
      "127036    1-2 Year             No         27927.0                 124.0  ...   \n",
      "\n",
      "        Age_grade_quantile 10대  20대  30대  40대  50대  60대  70대  80대  90대  \n",
      "0                        3   1    0    0    0    0    0    0    0    0  \n",
      "1                        5   0    0    1    0    0    0    0    0    0  \n",
      "2                        7   0    0    0    1    0    0    0    0    0  \n",
      "3                        2   1    0    0    0    0    0    0    0    0  \n",
      "4                        4   1    0    0    0    0    0    0    0    0  \n",
      "...                    ...  ..  ...  ...  ...  ...  ...  ...  ...  ...  \n",
      "127032                   3   1    0    0    0    0    0    0    0    0  \n",
      "127033                   5   0    0    1    0    0    0    0    0    0  \n",
      "127034                   1   1    0    0    0    0    0    0    0    0  \n",
      "127035                   9   0    0    0    0    0    0    0    1    0  \n",
      "127036                   6   0    0    1    0    0    0    0    0    0  \n",
      "\n",
      "[127037 rows x 22 columns]\n"
     ]
    }
   ],
   "source": [
    "### 실습 2) 'Age_grade'(범주형 변수) 더미 변수화 하기\n",
    "# unique 값 확인 ['10대', '30대', '40대', '50대', '70대', '20대', '60대', '80대', '90대']\n",
    "print(df.loc[:,'Age_grade'].unique())\n",
    "\n",
    "# 범주형 데이터는 모델의 학습 변수로 사용할 수 없다. 그래서 더미 변수화를 해주여야 사용할 수 있게 된다.\n",
    "dummies_df = pd.get_dummies(df.loc[:,'Age_grade']) # 더미 변수를 생성\n",
    "# 더미 변수명 변경 => 'Age_1' ~ 'Age_9' 까지\n",
    "dummies_df.columns = list(map(lambda x : 'Age_' + x.replace('0대',''), list(dummies_df.columns)))\n",
    "result_df = pd.concat([df, dummies_df], axis=1) # 생성된 더미 변수를 원 데이터 옆에 붙여준다.\n",
    "print(result_df) # 원 데이터 뒤에 프레임 뒤에 더미 변수가 생성된 것을 확인"
   ]
  },
  {
   "cell_type": "code",
   "execution_count": 25,
   "metadata": {},
   "outputs": [
    {
     "name": "stdout",
     "output_type": "stream",
     "text": [
      "나이대 데이터 행렬 : [[0]\n",
      " [2]\n",
      " [3]\n",
      " ...\n",
      " [0]\n",
      " [7]\n",
      " [2]]\n",
      "나이대 데이터 행렬 사이즈 : (127037, 1)\n",
      "나이대 데이터 변량 unique : ['10대' '20대' '30대' '40대' '50대' '60대' '70대' '80대' '90대']\n",
      "            id  Gender  Age  Driving_License  Region_Code  Previously_Insured  \\\n",
      "0       381110    Male   25                1         11.0                   1   \n",
      "1       381111    Male   40                1         28.0                   0   \n",
      "2       381112    Male   47                1         28.0                   0   \n",
      "3       381113    Male   24                1         27.0                   1   \n",
      "4       381114    Male   27                1         28.0                   1   \n",
      "...        ...     ...  ...              ...          ...                 ...   \n",
      "127032  508142  Female   26                1         37.0                   1   \n",
      "127033  508143  Female   38                1         28.0                   0   \n",
      "127034  508144    Male   21                1         46.0                   1   \n",
      "127035  508145    Male   71                1         28.0                   1   \n",
      "127036  508146    Male   41                1         29.0                   1   \n",
      "\n",
      "       Vehicle_Age Vehicle_Damage  Annual_Premium  Policy_Sales_Channel  ...  \\\n",
      "0         < 1 Year             No         35786.0                 152.0  ...   \n",
      "1         1-2 Year            Yes         33762.0                   7.0  ...   \n",
      "2         1-2 Year            Yes         40050.0                 124.0  ...   \n",
      "3         < 1 Year            Yes         37356.0                 152.0  ...   \n",
      "4         < 1 Year             No         59097.0                 152.0  ...   \n",
      "...            ...            ...             ...                   ...  ...   \n",
      "127032    < 1 Year             No         30867.0                 152.0  ...   \n",
      "127033    1-2 Year            Yes         28700.0                 122.0  ...   \n",
      "127034    < 1 Year             No         29802.0                 152.0  ...   \n",
      "127035    1-2 Year             No         62875.0                  26.0  ...   \n",
      "127036    1-2 Year             No         27927.0                 124.0  ...   \n",
      "\n",
      "        Age_grade_quantile Age_1  Age_2  Age_3  Age_4  Age_5  Age_6  Age_7  \\\n",
      "0                        3   1.0    0.0    0.0    0.0    0.0    0.0    0.0   \n",
      "1                        5   0.0    0.0    1.0    0.0    0.0    0.0    0.0   \n",
      "2                        7   0.0    0.0    0.0    1.0    0.0    0.0    0.0   \n",
      "3                        2   1.0    0.0    0.0    0.0    0.0    0.0    0.0   \n",
      "4                        4   1.0    0.0    0.0    0.0    0.0    0.0    0.0   \n",
      "...                    ...   ...    ...    ...    ...    ...    ...    ...   \n",
      "127032                   3   1.0    0.0    0.0    0.0    0.0    0.0    0.0   \n",
      "127033                   5   0.0    0.0    1.0    0.0    0.0    0.0    0.0   \n",
      "127034                   1   1.0    0.0    0.0    0.0    0.0    0.0    0.0   \n",
      "127035                   9   0.0    0.0    0.0    0.0    0.0    0.0    0.0   \n",
      "127036                   6   0.0    0.0    1.0    0.0    0.0    0.0    0.0   \n",
      "\n",
      "        Age_8  Age_9  \n",
      "0         0.0    0.0  \n",
      "1         0.0    0.0  \n",
      "2         0.0    0.0  \n",
      "3         0.0    0.0  \n",
      "4         0.0    0.0  \n",
      "...       ...    ...  \n",
      "127032    0.0    0.0  \n",
      "127033    0.0    0.0  \n",
      "127034    0.0    0.0  \n",
      "127035    1.0    0.0  \n",
      "127036    0.0    0.0  \n",
      "\n",
      "[127037 rows x 22 columns]\n"
     ]
    }
   ],
   "source": [
    "### 실습 3) sklearn의 LabelEncoder, OneHotEncoder 함수로 더미 변수화 하기\n",
    "le = LabelEncoder()\n",
    "labels = le.fit_transform(df.loc[:,'Age_grade']) # 데이터 변량에 따른 라벨링\n",
    "lb_matrix = labels.reshape(-1, 1) # 2차원 행렬로 변환\n",
    "print('나이대 데이터 행렬 :', lb_matrix)\n",
    "print('나이대 데이터 행렬 사이즈 :', lb_matrix.shape)\n",
    "print('나이대 데이터 변량 unique :', le.classes_)\n",
    "\n",
    "# 실습3) 원핫인코더로 더미 변수 생성\n",
    "ohe = OneHotEncoder(sparse=False)\n",
    "ohe_matrix = ohe.fit_transform(lb_matrix)\n",
    "list(le.classes_)\n",
    "# 행렬을 변수화\n",
    "dummies_df_2 = pd.DataFrame(data=ohe_matrix, columns=le.classes_) # 데이터 프레임화\n",
    "# 더미 변수명 변경 => 'Age_1' ~ 'Age_9' 까지\n",
    "dummies_df_2.columns = list(map(lambda x : 'Age_' + x.replace('0대',''), list(dummies_df_2.columns)))\n",
    "result_df = pd.concat([df, dummies_df_2], axis=1) # 생성된 더미 변수를 원 데이터 옆에 붙여준다.\n",
    "print(result_df)"
   ]
  },
  {
   "cell_type": "code",
   "execution_count": 82,
   "metadata": {},
   "outputs": [
    {
     "name": "stdout",
     "output_type": "stream",
     "text": [
      "Annual_Premium 데이터 :  0         35786.0\n",
      "1         33762.0\n",
      "2         40050.0\n",
      "3         37356.0\n",
      "4         59097.0\n",
      "           ...   \n",
      "127032    30867.0\n",
      "127033    28700.0\n",
      "127034    29802.0\n",
      "127035    62875.0\n",
      "127036    27927.0\n",
      "Name: Annual_Premium, Length: 127037, dtype: float64\n",
      "최소 : 2630.0 , 최대 : 472042.0\n"
     ]
    },
    {
     "data": {
      "text/plain": [
       "Text(0.5, 1.0, 'Annual_Premium RAW DATA')"
      ]
     },
     "execution_count": 82,
     "metadata": {},
     "output_type": "execute_result"
    },
    {
     "data": {
      "image/png": "[encoded data removed]",
      "text/plain": [
       "<Figure size 432x288 with 1 Axes>"
      ]
     },
     "metadata": {
      "needs_background": "light"
     },
     "output_type": "display_data"
    }
   ],
   "source": [
    "##'Annual_Premium' 변수 Scaling 하기 ###\n",
    "\n",
    "# 'Annual_Premium' 데이터 최대 및 최소값 확인\n",
    "print('Annual_Premium 데이터 : ', df.loc[:,'Annual_Premium'])\n",
    "var_array = np.array(df.loc[:,'Annual_Premium'])\n",
    "\n",
    "# 히스토그램 : X축은 변량, Y축은 빈도수\n",
    "print('최소 :', var_array.min(), ', 최대 :', var_array.max())\n",
    "plt.hist(var_array)\n",
    "plt.title('Annual_Premium RAW DATA')"
   ]
  },
  {
   "cell_type": "code",
   "execution_count": 79,
   "metadata": {},
   "outputs": [
    {
     "name": "stdout",
     "output_type": "stream",
     "text": [
      "스케일러 객체 : StandardScaler(copy=True, with_mean=True, with_std=True)\n",
      "[[35786.]\n",
      " [33762.]\n",
      " [40050.]\n",
      " ...\n",
      " [29802.]\n",
      " [62875.]\n",
      " [27927.]]\n",
      "StandardScaling :  [[ 0.31049188]\n",
      " [ 0.19104824]\n",
      " [ 0.56212611]\n",
      " ...\n",
      " [-0.04264584]\n",
      " [ 1.90911281]\n",
      " [-0.15329644]]\n",
      "최소 : -1.6461649032349563 , 최대 : 26.05555343721326\n"
     ]
    },
    {
     "data": {
      "text/plain": [
       "Text(0.5, 1.0, 'Annual_Premium Standard Scaling')"
      ]
     },
     "execution_count": 79,
     "metadata": {},
     "output_type": "execute_result"
    },
    {
     "data": {
      "image/png": "[encoded data removed]",
      "text/plain": [
       "<Figure size 432x288 with 1 Axes>"
      ]
     },
     "metadata": {
      "needs_background": "light"
     },
     "output_type": "display_data"
    }
   ],
   "source": [
    "# 1. StandardScaler : 평균을 0, 분산 1인 데이터로 변경합니다.\n",
    "\n",
    "standardscaler = StandardScaler() # 스케일러 객체 할당\n",
    "print('스케일러 객체 :', standardscaler) \n",
    "\n",
    "# 스케일링을 하기위해 2차원 행렬로 변환\n",
    "scale_array = var_array.reshape(-1,1)\n",
    "print(scale_array)\n",
    "# StandardScaler 스케일링\n",
    "std_scaling = standardscaler.fit_transform(scale_array)\n",
    "print('StandardScaling : ', std_scaling)\n",
    "\n",
    "# 히스토그램 : Standard Scalling\n",
    "print('최소 :', std_scaling.min(), ', 최대 :', std_scaling.max())\n",
    "plt.hist(std_scaling)\n",
    "plt.title('Annual_Premium Standard Scaling')"
   ]
  },
  {
   "cell_type": "code",
   "execution_count": 80,
   "metadata": {},
   "outputs": [
    {
     "name": "stdout",
     "output_type": "stream",
     "text": [
      "MinMaxScaler(copy=True, feature_range=(0, 1))\n",
      "[[0.07063305]\n",
      " [0.06632127]\n",
      " [0.07971675]\n",
      " ...\n",
      " [0.05788518]\n",
      " [0.12834141]\n",
      " [0.05389083]]\n",
      "최소 : 0.0 , 최대 : 0.9999999999999999\n"
     ]
    },
    {
     "data": {
      "text/plain": [
       "Text(0.5, 1.0, 'Annual_Premium MinMax Scaling')"
      ]
     },
     "execution_count": 80,
     "metadata": {},
     "output_type": "execute_result"
    },
    {
     "data": {
      "image/png": "[encoded data removed]",
      "text/plain": [
       "<Figure size 432x288 with 1 Axes>"
      ]
     },
     "metadata": {
      "needs_background": "light"
     },
     "output_type": "display_data"
    }
   ],
   "source": [
    "# 2. MinmaxScaler : 모든 데이터 값이 0과 1사이의 값들로 매핑됩니다.\n",
    "minmaxscaler= MinMaxScaler()\n",
    "print(minmaxscaler) # 스케일러 객체\n",
    "\n",
    "# StandardScaler 스케일링\n",
    "mms_scaling = minmaxscaler.fit_transform(scale_array)\n",
    "print('MinMaxScaling : ', mms_scaling)\n",
    "\n",
    "# 히스토그램 : MinMax Scalling\n",
    "print('최소 :', mms_scaling.min(), ', 최대 :', mms_scaling.max())\n",
    "plt.hist(mms_scaling)\n",
    "plt.title('Annual_Premium MinMax Scaling')"
   ]
  },
  {
   "cell_type": "code",
   "execution_count": 81,
   "metadata": {},
   "outputs": [
    {
     "name": "stdout",
     "output_type": "stream",
     "text": [
      "MinMaxScaler(copy=True, feature_range=(0, 1))\n",
      "MaxAbsScaling :  [[0.07063305]\n",
      " [0.06632127]\n",
      " [0.07971675]\n",
      " ...\n",
      " [0.05788518]\n",
      " [0.12834141]\n",
      " [0.05389083]]\n",
      "최소 : 0.0 , 최대 : 0.9999999999999999\n"
     ]
    },
    {
     "data": {
      "text/plain": [
       "Text(0.5, 1.0, 'Annual_Premium MaxAbsScaling Scaling')"
      ]
     },
     "execution_count": 81,
     "metadata": {},
     "output_type": "execute_result"
    },
    {
     "data": {
      "image/png": "[encoded data removed]",
      "text/plain": [
       "<Figure size 432x288 with 1 Axes>"
      ]
     },
     "metadata": {
      "needs_background": "light"
     },
     "output_type": "display_data"
    }
   ],
   "source": [
    "# 3. MaxAbsScaler : 절대값이 0~1사이에 매핑되도록 합니다. 즉 -1~1 사이로 재조정됩니다..\n",
    "minabsscaler= MaxAbsScaler()\n",
    "print(minmaxscaler) # 스케일러 객체\n",
    "\n",
    "# MaxAbsScaler 스케일링\n",
    "mabs = minabsscaler.fit_transform(scale_array)\n",
    "print('MaxAbsScaling : ', mms_scaling)\n",
    "print('최소 :', mms_scaling.min(), ', 최대 :', mms_scaling.max())\n",
    "# 히스토그램으로 표현(스케일링한 데이터 분포) => 모든 데이터 값이 양수이기 때문에 스케일링된 값이 음수일 수가 없습니다.\n",
    "plt.hist(mms_scaling)\n",
    "plt.title('Annual_Premium MaxAbsScaling Scaling')"
   ]
  }
 ],
 "metadata": {
  "kernelspec": {
   "display_name": "Python 3",
   "language": "python",
   "name": "python3"
  },
  "language_info": {
   "codemirror_mode": {
    "name": "ipython",
    "version": 3
   },
   "file_extension": ".py",
   "mimetype": "text/x-python",
   "name": "python",
   "nbconvert_exporter": "python",
   "pygments_lexer": "ipython3",
   "version": "3.7.6"
  }
 },
 "nbformat": 4,
 "nbformat_minor": 4
}
