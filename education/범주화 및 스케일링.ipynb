{
 "cells": [
  {
   "cell_type": "code",
   "execution_count": 30,
   "metadata": {},
   "outputs": [],
   "source": [
    "# 패지지 임포트\n",
    "import pandas as pd\n",
    "import numpy as np\n",
    "from sklearn.preprocessing import StandardScaler, MinMaxScaler, MaxAbsScaler, RobustScaler\n",
    "import matplotlib.pyplot as plt"
   ]
  },
  {
   "cell_type": "code",
   "execution_count": 3,
   "metadata": {},
   "outputs": [
    {
     "name": "stdout",
     "output_type": "stream",
     "text": [
      "[-150 -110  -30    0   20   30  110  120  130  150]\n"
     ]
    }
   ],
   "source": [
    "# 0. scaling 할 numpy 선언\n",
    "scale_data = np.array([-150,-110,-30,0,20,30,110,120,130,150])\n",
    "print(scale_data)"
   ]
  },
  {
   "cell_type": "code",
   "execution_count": 4,
   "metadata": {},
   "outputs": [
    {
     "name": "stdout",
     "output_type": "stream",
     "text": [
      "[-150 -110  -30    0   20   30  110  120  130  150] , StandardScaler(copy=True, with_mean=True, with_std=True)\n",
      "[[-1.81207562]\n",
      " [-1.40256701]\n",
      " [-0.58354978]\n",
      " [-0.27641832]\n",
      " [-0.07166401]\n",
      " [ 0.03071315]\n",
      " [ 0.84973038]\n",
      " [ 0.95210753]\n",
      " [ 1.05448469]\n",
      " [ 1.25923899]]\n"
     ]
    }
   ],
   "source": [
    "# 1. StandardScaler : 평균을 0, 분산을 1로 변경됩니다.(이상치에 영향이 큽니다.)\n",
    "standardscaler = StandardScaler()\n",
    "print(scale_data, ',', standardscaler)\n",
    "std_scaling = standardscaler.fit_transform(scale_data.reshape(-1,1))\n",
    "print(std_scaling)"
   ]
  },
  {
   "cell_type": "code",
   "execution_count": 5,
   "metadata": {},
   "outputs": [
    {
     "name": "stdout",
     "output_type": "stream",
     "text": [
      "[[0.        ]\n",
      " [0.13333333]\n",
      " [0.4       ]\n",
      " [0.5       ]\n",
      " [0.56666667]\n",
      " [0.6       ]\n",
      " [0.86666667]\n",
      " [0.9       ]\n",
      " [0.93333333]\n",
      " [1.        ]]\n"
     ]
    }
   ],
   "source": [
    "# 2. MinmaxScaler : 모든 feature가 0과 1 사이에 위치하게 만듭니다.(이상치가 있을경우 다른 값들이 매우 압축된 범위에서만 움직이게 됩니다.)\n",
    "minmaxscaler = MinMaxScaler()\n",
    "mm_scaling = minmaxscaler.fit_transform(scale_data.reshape(-1,1))\n",
    "print(mm_scaling)\n"
   ]
  },
  {
   "cell_type": "code",
   "execution_count": 6,
   "metadata": {},
   "outputs": [
    {
     "name": "stdout",
     "output_type": "stream",
     "text": [
      "[[-1.        ]\n",
      " [-0.73333333]\n",
      " [-0.2       ]\n",
      " [ 0.        ]\n",
      " [ 0.13333333]\n",
      " [ 0.2       ]\n",
      " [ 0.73333333]\n",
      " [ 0.8       ]\n",
      " [ 0.86666667]\n",
      " [ 1.        ]]\n"
     ]
    }
   ],
   "source": [
    "# 3. MaxAbsScaler : 절대값이 0~1사이에 매핑되도록 합니다. 즉 -1~1 사이로 재조정됩니다.\n",
    "# 양수 데이터로만 구성된 특징 데이터 셋에서는 MinMaxScaler와 유사하게 동작하며, 큰 이상치에 민감할 수 있습니다.\n",
    "maxabsscaler = MaxAbsScaler()\n",
    "maxabs_scaling = maxabsscaler.fit_transform(scale_data.reshape(-1,1))\n",
    "print(maxabs_scaling)"
   ]
  },
  {
   "cell_type": "code",
   "execution_count": 7,
   "metadata": {},
   "outputs": [
    {
     "name": "stdout",
     "output_type": "stream",
     "text": [
      "[[-1.25      ]\n",
      " [-0.96428571]\n",
      " [-0.39285714]\n",
      " [-0.17857143]\n",
      " [-0.03571429]\n",
      " [ 0.03571429]\n",
      " [ 0.60714286]\n",
      " [ 0.67857143]\n",
      " [ 0.75      ]\n",
      " [ 0.89285714]]\n"
     ]
    }
   ],
   "source": [
    "# 4. RobustScaler : 모든 특성들이 같은 크기를 갖는다는 점에서 StandardScaler와 비슷하지만, 평균과 분산 대신 median과 quantile을 사용합니다.\n",
    "# 아웃라이어(이상치)에 영향을 최소화한 기법입니다. 중앙값(median)과 IQR(Interquantile range)을 사용하기 때문에 StandardScaler와 비교해보면\n",
    "# IQR = Q3 - Q1 : 즉, 25퍼센타일과 75퍼센타일의 값들을 다룬다.\n",
    "# 표준화 후 동일한 값을 더 넓게 분포시키고 있음을 확인 할 수 있습니다.\n",
    "robustscaler = RobustScaler()\n",
    "rb_scaling = robustscaler.fit_transform(scale_data.reshape(-1,1))\n",
    "print(rb_scaling)"
   ]
  },
  {
   "cell_type": "code",
   "execution_count": 9,
   "metadata": {},
   "outputs": [
    {
     "name": "stdout",
     "output_type": "stream",
     "text": [
      "          ID  target        v1        v2 v3        v4         v5        v6  \\\n",
      "0          3       1  1.335739  8.727474  C  3.921026   7.915266  2.599278   \n",
      "1          4       1  0.000000  0.000000  C  0.000000   9.191265  0.000000   \n",
      "2          5       1  0.943877  5.310079  C  4.410969   5.326159  3.979592   \n",
      "3          6       1  0.797415  8.304757  C  4.225930  11.627438  2.097700   \n",
      "4          8       1  0.000000  0.000000  C  0.000000   0.000000  0.000000   \n",
      "...      ...     ...       ...       ... ..       ...        ...       ...   \n",
      "19995  40048       1  0.000000  0.000000  C  0.000000   0.000000  0.000000   \n",
      "19996  40051       1  2.019311  3.284808  C  1.954289   8.942205  2.535684   \n",
      "19997  40052       0  0.913579  8.132525  C  3.555315  12.461332  2.580248   \n",
      "19998  40055       1  0.000000  0.000000  C  0.000000   0.000000  0.000000   \n",
      "19999  40056       0  0.487483  7.638427  C  4.044045   8.511991  1.299956   \n",
      "\n",
      "             v7        v8  ...   v22           v23  v24       v25       v26  \\\n",
      "0      3.176895  0.012941  ...   XDX -1.720000e-08    C  0.139412  1.720818   \n",
      "1      0.000000  2.301630  ...   GUV  0.000000e+00    C  3.056144  0.000000   \n",
      "2      3.928571  0.019645  ...    FQ -2.790000e-07    E  0.113997  2.244897   \n",
      "3      1.987549  0.171947  ...  ACUE -4.810000e-07    D  0.148843  1.308269   \n",
      "4      0.000000  0.000000  ...   HIT  0.000000e+00    E  0.000000  0.000000   \n",
      "...         ...       ...  ...   ...           ...  ...       ...       ...   \n",
      "19995  0.000000  0.000000  ...  ACCB  0.000000e+00    D  0.000000  0.000000   \n",
      "19996  1.931150  1.119962  ...   KDA  1.300000e-08    C  1.728577  1.754828   \n",
      "19997  2.067901  0.137280  ...  AAES -7.420000e-07    E  0.153086  1.697531   \n",
      "19998  0.000000  0.000000  ...   OST  0.000000e+00    E  0.000000  0.000000   \n",
      "19999  2.362758  0.773913  ...   QYP  7.393090e-01    E  1.159701  1.191626   \n",
      "\n",
      "            v27       v28       v29  v30  v31  \n",
      "0      3.393503  0.590122  8.880867    C    A  \n",
      "1      0.000000  0.000000  0.000000    C    A  \n",
      "2      5.306122  0.836005  7.499999    0    A  \n",
      "3      2.303640  8.926662  8.874521    C    B  \n",
      "4      0.000000  0.000000  0.000000    0    A  \n",
      "...         ...       ...       ...  ...  ...  \n",
      "19995  0.000000  0.000000  0.000000    0    B  \n",
      "19996  1.712845  5.090871  8.404702    0    B  \n",
      "19997  1.802468  6.925380  9.685186    G    A  \n",
      "19998  0.000000  0.000000  0.000000    C    A  \n",
      "19999  4.918753  4.866367  5.085640    0    A  \n",
      "\n",
      "[20000 rows x 33 columns]\n"
     ]
    }
   ],
   "source": [
    "############################################################################################\n",
    "# 스케일링 하기\n",
    "# 실습 데이터 불러오기\n",
    "df = pd.read_csv('C:\\\\Users\\\\wai\\\\Desktop\\\\프로젝트\\\\교육자료\\\\교육데이터\\\\BookExample.csv')\n",
    "print(df)"
   ]
  },
  {
   "cell_type": "code",
   "execution_count": 18,
   "metadata": {},
   "outputs": [
    {
     "name": "stdout",
     "output_type": "stream",
     "text": [
      "21\n",
      "최대 : 20.0000008 최소 : 0.0\n"
     ]
    }
   ],
   "source": [
    "# 'v20' 변수 최대, 최소값 확인\n",
    "print(list(df.columns).index('v20'))\n",
    "print('최대 :', df.iloc[:,21].max(),'최소 :', df.iloc[:,21].min())"
   ]
  },
  {
   "cell_type": "code",
   "execution_count": 46,
   "metadata": {},
   "outputs": [
    {
     "name": "stdout",
     "output_type": "stream",
     "text": [
      "StandardScaler(copy=True, with_mean=True, with_std=True)\n",
      "[[ 0.99283532]\n",
      " [-1.14182311]\n",
      " [ 0.88910184]\n",
      " ...\n",
      " [ 0.92755013]\n",
      " [-1.14182311]\n",
      " [ 0.85043748]]\n"
     ]
    },
    {
     "data": {
      "text/plain": [
       "(array([1.90800294e+00, 0.00000000e+00, 2.20987137e-04, 0.00000000e+00,\n",
       "        1.10493568e-03, 5.08270415e-03, 2.85073407e-02, 1.49829279e-01,\n",
       "        1.04129139e+00, 1.28570316e+00]),\n",
       " array([-1.14182311, -0.9155656 , -0.68930809, -0.46305057, -0.23679306,\n",
       "        -0.01053555,  0.21572197,  0.44197948,  0.66823699,  0.8944945 ,\n",
       "         1.12075202]),\n",
       " <a list of 10 Patch objects>)"
      ]
     },
     "execution_count": 46,
     "metadata": {},
     "output_type": "execute_result"
    },
    {
     "data": {
      "image/png": "[encoded data removed]",
      "text/plain": [
       "<Figure size 432x288 with 1 Axes>"
      ]
     },
     "metadata": {
      "needs_background": "light"
     },
     "output_type": "display_data"
    }
   ],
   "source": [
    "# 1. StandardScaler : 평균을 0, 분산 1인 데이터로 변경합니다.\n",
    "standardscaler= StandardScaler()\n",
    "print(standardscaler) # 스케일러 객체\n",
    "\n",
    "var_array = np.array(df.iloc[:,21])\n",
    "# 스케일링을 하기위해 2차원 행렬로 변환\n",
    "scale_array = var_array.reshape(-1,1)\n",
    "# StandardScaler 스케일링\n",
    "std_scaling = standardscaler.fit_transform(scale_array)\n",
    "print(std_scaling)\n",
    "\n",
    "# 히스토그램으로 표현(RAW 데이터 확률밀도)\n",
    "plt.hist(var_array, density=True)\n",
    "# 히스토그램으로 표현(스케일링한 데이터 확률밀도)\n",
    "plt.hist(std_scaling, density=True)"
   ]
  },
  {
   "cell_type": "code",
   "execution_count": 47,
   "metadata": {},
   "outputs": [
    {
     "name": "stdout",
     "output_type": "stream",
     "text": [
      "MinMaxScaler(copy=True, feature_range=(0, 1))\n",
      "[[0.94346411]\n",
      " [0.        ]\n",
      " [0.89761658]\n",
      " ...\n",
      " [0.91460974]\n",
      " [0.        ]\n",
      " [0.88052793]]\n"
     ]
    },
    {
     "data": {
      "text/plain": [
       "(array([4.317e+00, 0.000e+00, 5.000e-04, 0.000e+00, 2.500e-03, 1.150e-02,\n",
       "        6.450e-02, 3.390e-01, 2.356e+00, 2.909e+00]),\n",
       " array([0. , 0.1, 0.2, 0.3, 0.4, 0.5, 0.6, 0.7, 0.8, 0.9, 1. ]),\n",
       " <a list of 10 Patch objects>)"
      ]
     },
     "execution_count": 47,
     "metadata": {},
     "output_type": "execute_result"
    },
    {
     "data": {
      "image/png": "[encoded data removed]",
      "text/plain": [
       "<Figure size 432x288 with 1 Axes>"
      ]
     },
     "metadata": {
      "needs_background": "light"
     },
     "output_type": "display_data"
    }
   ],
   "source": [
    "# 2. MinmaxScaler : 모든 데이터 값이 0과 1사이의 값들로 매핑됩니다.\n",
    "minmaxscaler= MinMaxScaler()\n",
    "print(minmaxscaler) # 스케일러 객체\n",
    "\n",
    "# StandardScaler 스케일링\n",
    "mms_scaling = minmaxscaler.fit_transform(scale_array)\n",
    "print(mms_scaling)\n",
    "\n",
    "# 히스토그램으로 표현(RAW 데이터 분포)\n",
    "plt.hist(var_array, density=True)\n",
    "# 히스토그램으로 표현(스케일링한 데이터 분포)\n",
    "plt.hist(mms_scaling, density=True)"
   ]
  },
  {
   "cell_type": "code",
   "execution_count": null,
   "metadata": {},
   "outputs": [],
   "source": [
    "# 3. MaxAbsScaler : 절대값이 0~1사이에 매핑되도록 합니다. 즉 -1~1 사이로 재조정됩니다..\n",
    "minmaxscaler= MaxAbsScaler()\n",
    "print(minmaxscaler) # 스케일러 객체\n",
    "\n",
    "# StandardScaler 스케일링\n",
    "mms_scaling = minmaxscaler.fit_transform(scale_array)\n",
    "print(mms_scaling)\n",
    "\n",
    "# 히스토그램으로 표현(RAW 데이터 분포)\n",
    "plt.hist(var_array, density=True)\n",
    "# 히스토그램으로 표현(스케일링한 데이터 분포)\n",
    "plt.hist(mms_scaling, density=True)"
   ]
  }
 ],
 "metadata": {
  "kernelspec": {
   "display_name": "Python 3",
   "language": "python",
   "name": "python3"
  },
  "language_info": {
   "codemirror_mode": {
    "name": "ipython",
    "version": 3
   },
   "file_extension": ".py",
   "mimetype": "text/x-python",
   "name": "python",
   "nbconvert_exporter": "python",
   "pygments_lexer": "ipython3",
   "version": "3.7.6"
  }
 },
 "nbformat": 4,
 "nbformat_minor": 4
}
