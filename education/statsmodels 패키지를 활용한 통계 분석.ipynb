{
 "cells": [
  {
   "cell_type": "code",
   "execution_count": 3,
   "metadata": {},
   "outputs": [],
   "source": [
    "# 패키지 임포트\n",
    "import pandas as pd\n",
    "from scipy.stats import shapiro, normaltest, kstest\n"
   ]
  },
  {
   "cell_type": "code",
   "execution_count": 4,
   "metadata": {},
   "outputs": [
    {
     "name": "stdout",
     "output_type": "stream",
     "text": [
      "            id  Gender  Age  Driving_License  Region_Code  Previously_Insured  \\\n",
      "0       381110    Male   25                1         11.0                   1   \n",
      "1       381111    Male   40                1         28.0                   0   \n",
      "2       381112    Male   47                1         28.0                   0   \n",
      "3       381113    Male   24                1         27.0                   1   \n",
      "4       381114    Male   27                1         28.0                   1   \n",
      "...        ...     ...  ...              ...          ...                 ...   \n",
      "127032  508142  Female   26                1         37.0                   1   \n",
      "127033  508143  Female   38                1         28.0                   0   \n",
      "127034  508144    Male   21                1         46.0                   1   \n",
      "127035  508145    Male   71                1         28.0                   1   \n",
      "127036  508146    Male   41                1         29.0                   1   \n",
      "\n",
      "       Vehicle_Age Vehicle_Damage  Annual_Premium  Policy_Sales_Channel  \\\n",
      "0         < 1 Year             No         35786.0                 152.0   \n",
      "1         1-2 Year            Yes         33762.0                   7.0   \n",
      "2         1-2 Year            Yes         40050.0                 124.0   \n",
      "3         < 1 Year            Yes         37356.0                 152.0   \n",
      "4         < 1 Year             No         59097.0                 152.0   \n",
      "...            ...            ...             ...                   ...   \n",
      "127032    < 1 Year             No         30867.0                 152.0   \n",
      "127033    1-2 Year            Yes         28700.0                 122.0   \n",
      "127034    < 1 Year             No         29802.0                 152.0   \n",
      "127035    1-2 Year             No         62875.0                  26.0   \n",
      "127036    1-2 Year             No         27927.0                 124.0   \n",
      "\n",
      "        Vintage  \n",
      "0            53  \n",
      "1           111  \n",
      "2           199  \n",
      "3           187  \n",
      "4           297  \n",
      "...         ...  \n",
      "127032       56  \n",
      "127033      165  \n",
      "127034       74  \n",
      "127035      265  \n",
      "127036      231  \n",
      "\n",
      "[127037 rows x 11 columns]\n"
     ]
    }
   ],
   "source": [
    "# 실습 데이터 불러오기\n",
    "df = pd.read_csv('C:\\\\Users\\\\wai\\\\Desktop\\\\프로젝트\\\\교육자료\\\\교육데이터\\\\kaggle\\\\test.csv')\n",
    "print(df)"
   ]
  },
  {
   "cell_type": "code",
   "execution_count": 8,
   "metadata": {},
   "outputs": [
    {
     "name": "stdout",
     "output_type": "stream",
     "text": [
      "0          53\n",
      "1         111\n",
      "2         199\n",
      "3         187\n",
      "4         297\n",
      "         ... \n",
      "127032     56\n",
      "127033    165\n",
      "127034     74\n",
      "127035    265\n",
      "127036    231\n",
      "Name: Vintage, Length: 127037, dtype: int64\n"
     ]
    },
    {
     "name": "stderr",
     "output_type": "stream",
     "text": [
      "C:\\Users\\wai\\Anaconda3\\lib\\site-packages\\scipy\\stats\\morestats.py:1676: UserWarning: p-value may not be accurate for N > 5000.\n",
      "  warnings.warn(\"p-value may not be accurate for N > 5000.\")\n"
     ]
    },
    {
     "data": {
      "text/plain": [
       "(0.9548432230949402, 0.0)"
      ]
     },
     "execution_count": 8,
     "metadata": {},
     "output_type": "execute_result"
    }
   ],
   "source": [
    "### 실습 1) 정규성 검정\n",
    "# 검정 대상 컬럼 : 'Vintage'\n",
    "print(df.loc[:,'Vintage'])\n",
    "\n",
    "# 정규 분로를 따르는지 검정\n",
    "# 가정 : 독립성, 등분산성\n",
    "\n",
    "# 1. Shapiro-Wilks test(표본수가 2000 미만인 데이터셋에 적합한 정규성 검정)\n",
    "shapiro(df.loc[:,'Vintage'])"
   ]
  },
  {
   "cell_type": "code",
   "execution_count": 10,
   "metadata": {},
   "outputs": [
    {
     "name": "stdout",
     "output_type": "stream",
     "text": [
      "            id  Gender  Age  Driving_License  Region_Code  Previously_Insured  \\\n",
      "0       381110    Male   25                1         11.0                   1   \n",
      "1       381111    Male   40                1         28.0                   0   \n",
      "2       381112    Male   47                1         28.0                   0   \n",
      "3       381113    Male   24                1         27.0                   1   \n",
      "4       381114    Male   27                1         28.0                   1   \n",
      "...        ...     ...  ...              ...          ...                 ...   \n",
      "127032  508142  Female   26                1         37.0                   1   \n",
      "127033  508143  Female   38                1         28.0                   0   \n",
      "127034  508144    Male   21                1         46.0                   1   \n",
      "127035  508145    Male   71                1         28.0                   1   \n",
      "127036  508146    Male   41                1         29.0                   1   \n",
      "\n",
      "       Vehicle_Age Vehicle_Damage  Annual_Premium  Policy_Sales_Channel  \\\n",
      "0         < 1 Year             No         35786.0                 152.0   \n",
      "1         1-2 Year            Yes         33762.0                   7.0   \n",
      "2         1-2 Year            Yes         40050.0                 124.0   \n",
      "3         < 1 Year            Yes         37356.0                 152.0   \n",
      "4         < 1 Year             No         59097.0                 152.0   \n",
      "...            ...            ...             ...                   ...   \n",
      "127032    < 1 Year             No         30867.0                 152.0   \n",
      "127033    1-2 Year            Yes         28700.0                 122.0   \n",
      "127034    < 1 Year             No         29802.0                 152.0   \n",
      "127035    1-2 Year             No         62875.0                  26.0   \n",
      "127036    1-2 Year             No         27927.0                 124.0   \n",
      "\n",
      "        Vintage  \n",
      "0            53  \n",
      "1           111  \n",
      "2           199  \n",
      "3           187  \n",
      "4           297  \n",
      "...         ...  \n",
      "127032       56  \n",
      "127033      165  \n",
      "127034       74  \n",
      "127035      265  \n",
      "127036      231  \n",
      "\n",
      "[127037 rows x 11 columns]\n",
      "Index(['id', 'Gender', 'Age', 'Driving_License', 'Region_Code',\n",
      "       'Previously_Insured', 'Vehicle_Age', 'Vehicle_Damage', 'Annual_Premium',\n",
      "       'Policy_Sales_Channel', 'Vintage'],\n",
      "      dtype='object')\n"
     ]
    }
   ],
   "source": [
    "### 선형 회귀 분석\n",
    "\n",
    "# 일반적인 가정 : 선형성, 독립성, 등분산성, 정규성\n",
    "# 가정 : 정규분포(한쪽으로 쏠리면 정확한 결과 값을 도출하기 힘듬), 독립변수는 독립적인 형태여야함(공분산)\n",
    "\n",
    "# 공분산(covariance) : 두 변수가 함께 변화하는 정도를 나타내는 지표 => 특정변수(X)의 편차와 다른 변수(Y)의 편차를 곱한것의 평균\n",
    "  # => 이러한 수식은 단위에 영향을 받음 단위가 크면 공분산 값도 클수 밖에 없는 수식임\n",
    "  # => 이것 때문에 상관계수(Correlation)이 나타남(상관계수는 절대적 크기에 영향을 받지 않음)\n",
    "print(df)\n",
    "print(df.columns)\n",
    "\n",
    "# 종속변수(TARGET) : 'Age'\n",
    "# 독립변수(Input Data) : 'Region_Code', 'Annual_Premium', 'Policy_Sales_Channel', 'Vintage'\n",
    "\n",
    "# \n",
    "for\n",
    "\n"
   ]
  },
  {
   "cell_type": "code",
   "execution_count": null,
   "metadata": {},
   "outputs": [],
   "source": [
    "### 실습 2) 상관관계 검정\n",
    "# Pearson, Spearman 상관계수는 -1 ~ +1 범위의 값, Pearson 상관 계수가 +1이 되도록 하기 위해 한 변수가 증가하면 다른 변수가 일정한 양만큼 증가합니다.\n",
    "# => 이 관계는 완전한 선을 형성합니다. 이 경우 Spearman 상관 계수도 +1 입니다.\n",
    "# 상관계수가 0이면 두 변수가 독립관계입니다. 예측이 불가능한 관계"
   ]
  }
 ],
 "metadata": {
  "kernelspec": {
   "display_name": "Python 3",
   "language": "python",
   "name": "python3"
  },
  "language_info": {
   "codemirror_mode": {
    "name": "ipython",
    "version": 3
   },
   "file_extension": ".py",
   "mimetype": "text/x-python",
   "name": "python",
   "nbconvert_exporter": "python",
   "pygments_lexer": "ipython3",
   "version": "3.7.6"
  }
 },
 "nbformat": 4,
 "nbformat_minor": 4
}
